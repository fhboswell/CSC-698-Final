{
 "cells": [
  {
   "cell_type": "markdown",
   "metadata": {},
   "source": [
    "\n",
    "# CSC 698\n",
    "### Parallel Computing\n"
   ]
  },
  {
   "cell_type": "code",
   "execution_count": 1,
   "metadata": {},
   "outputs": [],
   "source": [
    "#Importing things needed for calling C functions from python\n",
    "\n",
    "import scipy\n",
    "import ctypes\n",
    "import numpy as np\n",
    "from numpy.ctypeslib import ndpointer"
   ]
  },
  {
   "cell_type": "markdown",
   "metadata": {},
   "source": [
    "## OpenCLR\n",
    "This class uses ctypes to run functions written in C:"
   ]
  },
  {
   "cell_type": "code",
   "execution_count": 2,
   "metadata": {},
   "outputs": [],
   "source": [
    "class OpenCLR:\n",
    "    \n",
    "    def __init__(self):\n",
    "        self.model = []\n",
    "        self.lib = ctypes.cdll.LoadLibrary(\"./ctest.so\")\n",
    "        self.learn = self.lib.stageForLR\n",
    "        self.learn.restype = None\n",
    "        self.learn.argtypes = [ndpointer(ctypes.c_float, flags=\"C_CONTIGUOUS\"),\n",
    "                        ndpointer(ctypes.c_float, flags=\"C_CONTIGUOUS\"), ctypes.c_int,ctypes.c_int,  ndpointer(ctypes.c_float, flags=\"C_CONTIGUOUS\")]\n",
    "                        \n",
    "        self.predict = self.lib.stageForPredict\n",
    "        self.predict.restype = None\n",
    "        self.predict.argtypes = [ndpointer(ctypes.c_float, flags=\"C_CONTIGUOUS\"),\n",
    "                               ndpointer(ctypes.c_float, flags=\"C_CONTIGUOUS\"), ctypes.c_int,ctypes.c_int,  ndpointer(ctypes.c_float, flags=\"C_CONTIGUOUS\")]\n",
    "    \n",
    "    \n",
    "    \n",
    "    #There are two main methods lr_predict and lr_learn\n",
    "    def lr_learn(self, x, y, model_space):\n",
    "        self.learn(x, y, 12288, 209, model_space)\n",
    "        self.model = list(model_space)\n",
    "\n",
    "    \n",
    "    def lr_predict(self, x, y, outdata, ysize):\n",
    "        self.predict(x, np.ascontiguousarray(self.model, np.float32), 12288, ysize, outdata)"
   ]
  },
  {
   "cell_type": "markdown",
   "metadata": {},
   "source": [
    "# Using OpenCLR\n",
    "\n",
    "- The following code will use the class that is defined above\n",
    "- First a model will be generated from labeled immages\n",
    "- Cat vs Not a Cat\n",
    "- The model will be used to predict if previously unseen immages are a cat or not"
   ]
  },
  {
   "cell_type": "code",
   "execution_count": 3,
   "metadata": {},
   "outputs": [
    {
     "name": "stderr",
     "output_type": "stream",
     "text": [
      "/usr/local/lib/python3.6/site-packages/h5py/__init__.py:36: FutureWarning: Conversion of the second argument of issubdtype from `float` to `np.floating` is deprecated. In future, it will be treated as `np.float64 == np.dtype(float).type`.\n",
      "  from ._conv import register_converters as _register_converters\n"
     ]
    }
   ],
   "source": [
    "\n",
    "import matplotlib.pyplot as plt\n",
    "import h5py\n",
    "import scipy\n",
    "from PIL import Image\n",
    "from scipy import ndimage\n",
    "import numpy as np\n"
   ]
  },
  {
   "cell_type": "markdown",
   "metadata": {},
   "source": [
    "### Loading data\n",
    "- The following code loads the test and training datasets\n",
    "- these datasets are vectorized immages\n",
    "- 64 X 64 X 3 color values"
   ]
  },
  {
   "cell_type": "code",
   "execution_count": 4,
   "metadata": {},
   "outputs": [],
   "source": [
    "\n",
    "def load_dataset():\n",
    "    train_dataset = h5py.File('train_catvnoncat.h5', \"r\")\n",
    "    train_set_x_orig = np.array(train_dataset[\"train_set_x\"][:]) # your train set features\n",
    "    train_set_y_orig = np.array(train_dataset[\"train_set_y\"][:]) # your train set labels\n",
    "    \n",
    "    test_dataset = h5py.File('test_catvnoncat.h5', \"r\")\n",
    "    test_set_x_orig = np.array(test_dataset[\"test_set_x\"][:]) # your test set features\n",
    "    test_set_y_orig = np.array(test_dataset[\"test_set_y\"][:]) # your test set labels\n",
    "    \n",
    "    classes = np.array(test_dataset[\"list_classes\"][:]) # the list of classes\n",
    "    \n",
    "    train_set_y_orig = train_set_y_orig.reshape((1, train_set_y_orig.shape[0]))\n",
    "    test_set_y_orig = test_set_y_orig.reshape((1, test_set_y_orig.shape[0]))\n",
    "    \n",
    "    return train_set_x_orig, train_set_y_orig, test_set_x_orig, test_set_y_orig, classes"
   ]
  },
  {
   "cell_type": "code",
   "execution_count": 5,
   "metadata": {},
   "outputs": [],
   "source": [
    "#Staging data\n",
    "\n",
    "train_set_x_orig, train_set_y, test_set_x_orig, test_set_y, classes = load_dataset()\n",
    "train_set_x_flatten = train_set_x_orig.reshape(train_set_x_orig.shape[0], -1).T\n",
    "test_set_x_flatten = test_set_x_orig.reshape(test_set_x_orig.shape[0], -1).T\n",
    "x = train_set_x_flatten\n",
    "y = train_set_y\n",
    "xt = test_set_x_flatten\n",
    "yt = test_set_y\n",
    "outdata = np.ones(12288 + 1)\n",
    "dat = np.ascontiguousarray(outdata, np.float32)"
   ]
  },
  {
   "cell_type": "markdown",
   "metadata": {},
   "source": [
    "### Create the OpenCLR object and Generate a model"
   ]
  },
  {
   "cell_type": "code",
   "execution_count": 6,
   "metadata": {},
   "outputs": [],
   "source": [
    "Test = OpenCLR()\n",
    "Test.lr_learn(np.ascontiguousarray(x, np.float32), np.ascontiguousarray(y, np.float32), dat)"
   ]
  },
  {
   "cell_type": "markdown",
   "metadata": {},
   "source": [
    "### Predict on training data using the model that was just generated"
   ]
  },
  {
   "cell_type": "code",
   "execution_count": 7,
   "metadata": {},
   "outputs": [],
   "source": [
    "ysize = 209\n",
    "testdat = np.ones(ysize)\n",
    "dat = np.ascontiguousarray(testdat, np.float32)\n",
    "Test.lr_predict(np.ascontiguousarray(x, np.float32), np.ascontiguousarray(y, np.float32), dat, ysize)"
   ]
  },
  {
   "cell_type": "code",
   "execution_count": 8,
   "metadata": {},
   "outputs": [
    {
     "name": "stdout",
     "output_type": "stream",
     "text": [
      "Accuracy on training data 100.0%\n"
     ]
    }
   ],
   "source": [
    "y = y[0]\n",
    "right = 0\n",
    "for i in range(len(y)):\n",
    "    if y[i] == dat[i]:\n",
    "        right = right+ 1\n",
    "\n",
    "percent = right/len(y)\n",
    "print(\"Accuracy on training data \" + str(percent*100) + \"%\")"
   ]
  },
  {
   "cell_type": "markdown",
   "metadata": {},
   "source": [
    "### Predict on previously unseen data using the model"
   ]
  },
  {
   "cell_type": "code",
   "execution_count": 9,
   "metadata": {},
   "outputs": [],
   "source": [
    "ysize = 50\n",
    "testdatt = np.ones(ysize)\n",
    "dat2 = np.ascontiguousarray(testdatt, np.float32)\n",
    "\n",
    "Test.lr_predict(np.ascontiguousarray(xt, np.float32), np.ascontiguousarray(yt, np.float32), dat2, ysize)"
   ]
  },
  {
   "cell_type": "code",
   "execution_count": 10,
   "metadata": {},
   "outputs": [
    {
     "name": "stdout",
     "output_type": "stream",
     "text": [
      "Accuracy on unseen data 70.0%\n"
     ]
    }
   ],
   "source": [
    "yt = yt[0]\n",
    "right = 0\n",
    "wrong = []\n",
    "correct = []\n",
    "for i in range(len(yt)):\n",
    "    if yt[i] == dat2[i]:\n",
    "        right = right+ 1\n",
    "        correct.append(i)\n",
    "    if yt[i] != dat2[i]:\n",
    "        wrong.append(i)\n",
    "        \n",
    "percent = right/len(yt)\n",
    "\n",
    "print(\"Accuracy on unseen data \" + str(percent*100) + \"%\")\n"
   ]
  },
  {
   "cell_type": "markdown",
   "metadata": {},
   "source": [
    "### Observe a wrongly predicted image"
   ]
  },
  {
   "cell_type": "code",
   "execution_count": 11,
   "metadata": {},
   "outputs": [
    {
     "name": "stdout",
     "output_type": "stream",
     "text": [
      "y = [0], it's a 'non-cat' picture.\n"
     ]
    },
    {
     "data": {
      "image/png": "[encoded data removed]",
      "text/plain": [
       "<Figure size 432x288 with 1 Axes>"
      ]
     },
     "metadata": {},
     "output_type": "display_data"
    }
   ],
   "source": [
    "\n",
    "index = wrong[1]\n",
    "plt.imshow(train_set_x_orig[index])\n",
    "print (\"y = \" + str(train_set_y[:, index]) + \", it's a '\" + classes[np.squeeze(train_set_y[:, index])].decode(\"utf-8\") +  \"' picture.\")"
   ]
  },
  {
   "cell_type": "markdown",
   "metadata": {},
   "source": [
    "### Observe a correctly predicted image"
   ]
  },
  {
   "cell_type": "code",
   "execution_count": 18,
   "metadata": {},
   "outputs": [
    {
     "name": "stdout",
     "output_type": "stream",
     "text": [
      "y = [1], it's a 'cat' picture.\n"
     ]
    },
    {
     "data": {
      "image/png": "[encoded data removed]",
      "text/plain": [
       "<Figure size 432x288 with 1 Axes>"
      ]
     },
     "metadata": {},
     "output_type": "display_data"
    }
   ],
   "source": [
    "index = correct[6]\n",
    "plt.imshow(train_set_x_orig[index])\n",
    "print (\"y = \" + str(train_set_y[:, index]) + \", it's a '\" + classes[np.squeeze(train_set_y[:, index])].decode(\"utf-8\") +  \"' picture.\")"
   ]
  },
  {
   "cell_type": "code",
   "execution_count": null,
   "metadata": {},
   "outputs": [],
   "source": []
  }
 ],
 "metadata": {
  "kernelspec": {
   "display_name": "Python 3",
   "language": "python",
   "name": "python3"
  },
  "language_info": {
   "codemirror_mode": {
    "name": "ipython",
    "version": 3
   },
   "file_extension": ".py",
   "mimetype": "text/x-python",
   "name": "python",
   "nbconvert_exporter": "python",
   "pygments_lexer": "ipython3",
   "version": "3.6.5"
  }
 },
 "nbformat": 4,
 "nbformat_minor": 2
}
