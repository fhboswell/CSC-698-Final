{
 "cells": [
  {
   "cell_type": "code",
   "execution_count": 1,
   "metadata": {},
   "outputs": [
    {
     "name": "stdout",
     "output_type": "stream",
     "text": [
      "[ 2.  2.  2.  2.  2.  2.]\n"
     ]
    }
   ],
   "source": [
    "import ctypes\n",
    "import numpy\n",
    "from numpy.ctypeslib import ndpointer\n",
    "lib = ctypes.cdll.LoadLibrary(\"./ctest.so\")\n",
    "fun = lib.cfun\n",
    "fun.restype = None\n",
    "fun.argtypes = [ndpointer(ctypes.c_double, flags=\"C_CONTIGUOUS\"),\n",
    "                ctypes.c_size_t,\n",
    "                ndpointer(ctypes.c_double, flags=\"C_CONTIGUOUS\")]\n",
    "\n",
    "\n",
    "indata = numpy.ones((5,6))\n",
    "outdata = numpy.empty((5,6))\n",
    "fun(indata, indata.size, outdata)\n",
    "print(outdata[0])\n"
   ]
  },
  {
   "cell_type": "code",
   "execution_count": null,
   "metadata": {
    "collapsed": true
   },
   "outputs": [],
   "source": []
  }
 ],
 "metadata": {
  "kernelspec": {
   "display_name": "Python 3",
   "language": "python",
   "name": "python3"
  },
  "language_info": {
   "codemirror_mode": {
    "name": "ipython",
    "version": 3
   },
   "file_extension": ".py",
   "mimetype": "text/x-python",
   "name": "python",
   "nbconvert_exporter": "python",
   "pygments_lexer": "ipython3",
   "version": "3.6.5"
  }
 },
 "nbformat": 4,
 "nbformat_minor": 2
}
